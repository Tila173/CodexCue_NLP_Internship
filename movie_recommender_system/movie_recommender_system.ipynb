{
 "cells": [
  {
   "cell_type": "markdown",
   "id": "5082f26c",
   "metadata": {},
   "source": [
    "#                         Movie Recommender System"
   ]
  },
  {
   "cell_type": "markdown",
   "id": "659bd126",
   "metadata": {},
   "source": [
    "### Importing Libraries"
   ]
  },
  {
   "cell_type": "code",
   "execution_count": 1,
   "id": "62590862",
   "metadata": {},
   "outputs": [
    {
     "name": "stderr",
     "output_type": "stream",
     "text": [
      "C:\\Users\\hp\\AppData\\Local\\Packages\\PythonSoftwareFoundation.Python.3.10_qbz5n2kfra8p0\\LocalCache\\local-packages\\Python310\\site-packages\\scipy\\__init__.py:169: UserWarning: A NumPy version >=1.18.5 and <1.26.0 is required for this version of SciPy (detected version 1.26.4\n",
      "  warnings.warn(f\"A NumPy version >={np_minversion} and <{np_maxversion}\"\n"
     ]
    }
   ],
   "source": [
    "import pandas as pd\n",
    "import numpy as np\n",
    "import plotly.express as px\n",
    "import ast\n",
    "import re\n",
    "import nltk\n",
    "from nltk.corpus import stopwords\n",
    "from nltk.stem.porter import PorterStemmer\n",
    "from sklearn.feature_extraction.text import TfidfVectorizer\n",
    "from sklearn.metrics.pairwise import cosine_similarity"
   ]
  },
  {
   "cell_type": "markdown",
   "id": "c1865563",
   "metadata": {},
   "source": [
    "### Loading Datasets"
   ]
  },
  {
   "cell_type": "code",
   "execution_count": 2,
   "id": "3241d4b9",
   "metadata": {},
   "outputs": [],
   "source": [
    "movies = pd.read_csv('tmdb_5000_movies.csv')\n",
    "credits = pd.read_csv('tmdb_5000_credits.csv')"
   ]
  },
  {
   "cell_type": "markdown",
   "id": "173145fb",
   "metadata": {},
   "source": [
    "**Merging Movies and Credits Data**"
   ]
  },
  {
   "cell_type": "code",
   "execution_count": 3,
   "id": "4fcebbc8",
   "metadata": {},
   "outputs": [],
   "source": [
    "# Merged the 'movies' and 'credits' datasets on the 'title' column to combine movie details with cast and crew information\n",
    "movies = movies.merge(credits,on='title')"
   ]
  },
  {
   "cell_type": "markdown",
   "id": "09350db1",
   "metadata": {},
   "source": [
    "**Selecting Relevant Columns**"
   ]
  },
  {
   "cell_type": "code",
   "execution_count": 4,
   "id": "0861978f",
   "metadata": {},
   "outputs": [],
   "source": [
    "movies = movies[['movie_id','title','overview','genres','keywords','cast','crew']]"
   ]
  },
  {
   "cell_type": "code",
   "execution_count": 5,
   "id": "868c0a32",
   "metadata": {},
   "outputs": [
    {
     "data": {
      "text/html": [
       "<div>\n",
       "<style scoped>\n",
       "    .dataframe tbody tr th:only-of-type {\n",
       "        vertical-align: middle;\n",
       "    }\n",
       "\n",
       "    .dataframe tbody tr th {\n",
       "        vertical-align: top;\n",
       "    }\n",
       "\n",
       "    .dataframe thead th {\n",
       "        text-align: right;\n",
       "    }\n",
       "</style>\n",
       "<table border=\"1\" class=\"dataframe\">\n",
       "  <thead>\n",
       "    <tr style=\"text-align: right;\">\n",
       "      <th></th>\n",
       "      <th>movie_id</th>\n",
       "      <th>title</th>\n",
       "      <th>overview</th>\n",
       "      <th>genres</th>\n",
       "      <th>keywords</th>\n",
       "      <th>cast</th>\n",
       "      <th>crew</th>\n",
       "    </tr>\n",
       "  </thead>\n",
       "  <tbody>\n",
       "    <tr>\n",
       "      <th>0</th>\n",
       "      <td>19995</td>\n",
       "      <td>Avatar</td>\n",
       "      <td>In the 22nd century, a paraplegic Marine is di...</td>\n",
       "      <td>[{\"id\": 28, \"name\": \"Action\"}, {\"id\": 12, \"nam...</td>\n",
       "      <td>[{\"id\": 1463, \"name\": \"culture clash\"}, {\"id\":...</td>\n",
       "      <td>[{\"cast_id\": 242, \"character\": \"Jake Sully\", \"...</td>\n",
       "      <td>[{\"credit_id\": \"52fe48009251416c750aca23\", \"de...</td>\n",
       "    </tr>\n",
       "    <tr>\n",
       "      <th>1</th>\n",
       "      <td>285</td>\n",
       "      <td>Pirates of the Caribbean: At World's End</td>\n",
       "      <td>Captain Barbossa, long believed to be dead, ha...</td>\n",
       "      <td>[{\"id\": 12, \"name\": \"Adventure\"}, {\"id\": 14, \"...</td>\n",
       "      <td>[{\"id\": 270, \"name\": \"ocean\"}, {\"id\": 726, \"na...</td>\n",
       "      <td>[{\"cast_id\": 4, \"character\": \"Captain Jack Spa...</td>\n",
       "      <td>[{\"credit_id\": \"52fe4232c3a36847f800b579\", \"de...</td>\n",
       "    </tr>\n",
       "    <tr>\n",
       "      <th>2</th>\n",
       "      <td>206647</td>\n",
       "      <td>Spectre</td>\n",
       "      <td>A cryptic message from Bond’s past sends him o...</td>\n",
       "      <td>[{\"id\": 28, \"name\": \"Action\"}, {\"id\": 12, \"nam...</td>\n",
       "      <td>[{\"id\": 470, \"name\": \"spy\"}, {\"id\": 818, \"name...</td>\n",
       "      <td>[{\"cast_id\": 1, \"character\": \"James Bond\", \"cr...</td>\n",
       "      <td>[{\"credit_id\": \"54805967c3a36829b5002c41\", \"de...</td>\n",
       "    </tr>\n",
       "    <tr>\n",
       "      <th>3</th>\n",
       "      <td>49026</td>\n",
       "      <td>The Dark Knight Rises</td>\n",
       "      <td>Following the death of District Attorney Harve...</td>\n",
       "      <td>[{\"id\": 28, \"name\": \"Action\"}, {\"id\": 80, \"nam...</td>\n",
       "      <td>[{\"id\": 849, \"name\": \"dc comics\"}, {\"id\": 853,...</td>\n",
       "      <td>[{\"cast_id\": 2, \"character\": \"Bruce Wayne / Ba...</td>\n",
       "      <td>[{\"credit_id\": \"52fe4781c3a36847f81398c3\", \"de...</td>\n",
       "    </tr>\n",
       "    <tr>\n",
       "      <th>4</th>\n",
       "      <td>49529</td>\n",
       "      <td>John Carter</td>\n",
       "      <td>John Carter is a war-weary, former military ca...</td>\n",
       "      <td>[{\"id\": 28, \"name\": \"Action\"}, {\"id\": 12, \"nam...</td>\n",
       "      <td>[{\"id\": 818, \"name\": \"based on novel\"}, {\"id\":...</td>\n",
       "      <td>[{\"cast_id\": 5, \"character\": \"John Carter\", \"c...</td>\n",
       "      <td>[{\"credit_id\": \"52fe479ac3a36847f813eaa3\", \"de...</td>\n",
       "    </tr>\n",
       "  </tbody>\n",
       "</table>\n",
       "</div>"
      ],
      "text/plain": [
       "   movie_id                                     title   \n",
       "0     19995                                    Avatar  \\\n",
       "1       285  Pirates of the Caribbean: At World's End   \n",
       "2    206647                                   Spectre   \n",
       "3     49026                     The Dark Knight Rises   \n",
       "4     49529                               John Carter   \n",
       "\n",
       "                                            overview   \n",
       "0  In the 22nd century, a paraplegic Marine is di...  \\\n",
       "1  Captain Barbossa, long believed to be dead, ha...   \n",
       "2  A cryptic message from Bond’s past sends him o...   \n",
       "3  Following the death of District Attorney Harve...   \n",
       "4  John Carter is a war-weary, former military ca...   \n",
       "\n",
       "                                              genres   \n",
       "0  [{\"id\": 28, \"name\": \"Action\"}, {\"id\": 12, \"nam...  \\\n",
       "1  [{\"id\": 12, \"name\": \"Adventure\"}, {\"id\": 14, \"...   \n",
       "2  [{\"id\": 28, \"name\": \"Action\"}, {\"id\": 12, \"nam...   \n",
       "3  [{\"id\": 28, \"name\": \"Action\"}, {\"id\": 80, \"nam...   \n",
       "4  [{\"id\": 28, \"name\": \"Action\"}, {\"id\": 12, \"nam...   \n",
       "\n",
       "                                            keywords   \n",
       "0  [{\"id\": 1463, \"name\": \"culture clash\"}, {\"id\":...  \\\n",
       "1  [{\"id\": 270, \"name\": \"ocean\"}, {\"id\": 726, \"na...   \n",
       "2  [{\"id\": 470, \"name\": \"spy\"}, {\"id\": 818, \"name...   \n",
       "3  [{\"id\": 849, \"name\": \"dc comics\"}, {\"id\": 853,...   \n",
       "4  [{\"id\": 818, \"name\": \"based on novel\"}, {\"id\":...   \n",
       "\n",
       "                                                cast   \n",
       "0  [{\"cast_id\": 242, \"character\": \"Jake Sully\", \"...  \\\n",
       "1  [{\"cast_id\": 4, \"character\": \"Captain Jack Spa...   \n",
       "2  [{\"cast_id\": 1, \"character\": \"James Bond\", \"cr...   \n",
       "3  [{\"cast_id\": 2, \"character\": \"Bruce Wayne / Ba...   \n",
       "4  [{\"cast_id\": 5, \"character\": \"John Carter\", \"c...   \n",
       "\n",
       "                                                crew  \n",
       "0  [{\"credit_id\": \"52fe48009251416c750aca23\", \"de...  \n",
       "1  [{\"credit_id\": \"52fe4232c3a36847f800b579\", \"de...  \n",
       "2  [{\"credit_id\": \"54805967c3a36829b5002c41\", \"de...  \n",
       "3  [{\"credit_id\": \"52fe4781c3a36847f81398c3\", \"de...  \n",
       "4  [{\"credit_id\": \"52fe479ac3a36847f813eaa3\", \"de...  "
      ]
     },
     "execution_count": 5,
     "metadata": {},
     "output_type": "execute_result"
    }
   ],
   "source": [
    "movies.head()"
   ]
  },
  {
   "cell_type": "code",
   "execution_count": 6,
   "id": "5fbd4c96",
   "metadata": {},
   "outputs": [
    {
     "data": {
      "text/plain": [
       "Index(['movie_id', 'title', 'overview', 'genres', 'keywords', 'cast', 'crew'], dtype='object')"
      ]
     },
     "execution_count": 6,
     "metadata": {},
     "output_type": "execute_result"
    }
   ],
   "source": [
    "movies.columns"
   ]
  },
  {
   "cell_type": "code",
   "execution_count": 7,
   "id": "0644052d",
   "metadata": {},
   "outputs": [],
   "source": [
    "# Rename the '_x' columns back to their original names\n",
    "movies.rename(columns={'movie_id_x': 'movie_id', 'cast_x': 'cast', 'crew_x': 'crew'}, inplace=True)\n",
    "\n",
    "movies = movies[['movie_id', 'title', 'overview', 'genres', 'keywords', 'cast', 'crew']]"
   ]
  },
  {
   "cell_type": "code",
   "execution_count": 8,
   "id": "a0e8d8ac",
   "metadata": {},
   "outputs": [
    {
     "data": {
      "text/plain": [
       "(4809, 7)"
      ]
     },
     "execution_count": 8,
     "metadata": {},
     "output_type": "execute_result"
    }
   ],
   "source": [
    "movies.shape"
   ]
  },
  {
   "cell_type": "markdown",
   "id": "1a07c4dc",
   "metadata": {},
   "source": [
    "### Data Cleaning"
   ]
  },
  {
   "cell_type": "markdown",
   "id": "6c36299f",
   "metadata": {},
   "source": [
    "**1. Handling Missing Data**"
   ]
  },
  {
   "cell_type": "code",
   "execution_count": 9,
   "id": "960d8dac",
   "metadata": {},
   "outputs": [
    {
     "data": {
      "text/plain": [
       "movie_id    0\n",
       "title       0\n",
       "overview    3\n",
       "genres      0\n",
       "keywords    0\n",
       "cast        0\n",
       "crew        0\n",
       "dtype: int64"
      ]
     },
     "execution_count": 9,
     "metadata": {},
     "output_type": "execute_result"
    }
   ],
   "source": [
    "movies.isnull().sum()"
   ]
  },
  {
   "cell_type": "code",
   "execution_count": 10,
   "id": "b19da89f",
   "metadata": {},
   "outputs": [],
   "source": [
    "movies = movies.dropna(subset=['overview'])"
   ]
  },
  {
   "cell_type": "markdown",
   "id": "7f03e548",
   "metadata": {},
   "source": [
    "**2. Checking for Duplicates**"
   ]
  },
  {
   "cell_type": "code",
   "execution_count": 11,
   "id": "078744a2",
   "metadata": {},
   "outputs": [
    {
     "data": {
      "text/plain": [
       "0"
      ]
     },
     "execution_count": 11,
     "metadata": {},
     "output_type": "execute_result"
    }
   ],
   "source": [
    "movies.duplicated().sum()"
   ]
  },
  {
   "cell_type": "markdown",
   "id": "0f13283b",
   "metadata": {},
   "source": [
    "### Exploratory Data Analysis (EDA)"
   ]
  },
  {
   "cell_type": "markdown",
   "id": "34505558",
   "metadata": {},
   "source": [
    "**1. Basic Information**"
   ]
  },
  {
   "cell_type": "code",
   "execution_count": 12,
   "id": "a0440bfb",
   "metadata": {},
   "outputs": [
    {
     "name": "stdout",
     "output_type": "stream",
     "text": [
      "<class 'pandas.core.frame.DataFrame'>\n",
      "Index: 4806 entries, 0 to 4808\n",
      "Data columns (total 7 columns):\n",
      " #   Column    Non-Null Count  Dtype \n",
      "---  ------    --------------  ----- \n",
      " 0   movie_id  4806 non-null   int64 \n",
      " 1   title     4806 non-null   object\n",
      " 2   overview  4806 non-null   object\n",
      " 3   genres    4806 non-null   object\n",
      " 4   keywords  4806 non-null   object\n",
      " 5   cast      4806 non-null   object\n",
      " 6   crew      4806 non-null   object\n",
      "dtypes: int64(1), object(6)\n",
      "memory usage: 300.4+ KB\n",
      "None\n",
      "            movie_id\n",
      "count    4806.000000\n",
      "mean    56922.559509\n",
      "std     88309.447559\n",
      "min         5.000000\n",
      "25%      9009.750000\n",
      "50%     14615.500000\n",
      "75%     58476.750000\n",
      "max    447027.000000\n"
     ]
    }
   ],
   "source": [
    "print(movies.info())  \n",
    "print(movies.describe()) "
   ]
  },
  {
   "cell_type": "markdown",
   "id": "d2ff9c65",
   "metadata": {},
   "source": [
    "**2. Data Distribution**"
   ]
  },
  {
   "cell_type": "code",
   "execution_count": 29,
   "id": "7ccc9492",
   "metadata": {},
   "outputs": [
    {
     "data": {
      "application/vnd.plotly.v1+json": {
       "config": {
        "plotlyServerURL": "https://plot.ly"
       },
       "data": [
        {
         "alignmentgroup": "True",
         "hovertemplate": "Genre=%{x}<br>Number of Movies=%{text}<extra></extra>",
         "legendgroup": "Drama",
         "marker": {
          "color": "rgb(141,211,199)",
          "pattern": {
           "shape": ""
          }
         },
         "name": "Drama",
         "offsetgroup": "Drama",
         "orientation": "v",
         "showlegend": true,
         "text": [
          2299
         ],
         "textposition": "outside",
         "texttemplate": "%{text}",
         "type": "bar",
         "x": [
          "Drama"
         ],
         "xaxis": "x",
         "y": [
          2299
         ],
         "yaxis": "y"
        },
        {
         "alignmentgroup": "True",
         "hovertemplate": "Genre=%{x}<br>Number of Movies=%{text}<extra></extra>",
         "legendgroup": "Comedy",
         "marker": {
          "color": "rgb(255,255,179)",
          "pattern": {
           "shape": ""
          }
         },
         "name": "Comedy",
         "offsetgroup": "Comedy",
         "orientation": "v",
         "showlegend": true,
         "text": [
          1723
         ],
         "textposition": "outside",
         "texttemplate": "%{text}",
         "type": "bar",
         "x": [
          "Comedy"
         ],
         "xaxis": "x",
         "y": [
          1723
         ],
         "yaxis": "y"
        },
        {
         "alignmentgroup": "True",
         "hovertemplate": "Genre=%{x}<br>Number of Movies=%{text}<extra></extra>",
         "legendgroup": "Thriller",
         "marker": {
          "color": "rgb(190,186,218)",
          "pattern": {
           "shape": ""
          }
         },
         "name": "Thriller",
         "offsetgroup": "Thriller",
         "orientation": "v",
         "showlegend": true,
         "text": [
          1275
         ],
         "textposition": "outside",
         "texttemplate": "%{text}",
         "type": "bar",
         "x": [
          "Thriller"
         ],
         "xaxis": "x",
         "y": [
          1275
         ],
         "yaxis": "y"
        },
        {
         "alignmentgroup": "True",
         "hovertemplate": "Genre=%{x}<br>Number of Movies=%{text}<extra></extra>",
         "legendgroup": "Action",
         "marker": {
          "color": "rgb(251,128,114)",
          "pattern": {
           "shape": ""
          }
         },
         "name": "Action",
         "offsetgroup": "Action",
         "orientation": "v",
         "showlegend": true,
         "text": [
          1156
         ],
         "textposition": "outside",
         "texttemplate": "%{text}",
         "type": "bar",
         "x": [
          "Action"
         ],
         "xaxis": "x",
         "y": [
          1156
         ],
         "yaxis": "y"
        },
        {
         "alignmentgroup": "True",
         "hovertemplate": "Genre=%{x}<br>Number of Movies=%{text}<extra></extra>",
         "legendgroup": "Romance",
         "marker": {
          "color": "rgb(128,177,211)",
          "pattern": {
           "shape": ""
          }
         },
         "name": "Romance",
         "offsetgroup": "Romance",
         "orientation": "v",
         "showlegend": true,
         "text": [
          895
         ],
         "textposition": "outside",
         "texttemplate": "%{text}",
         "type": "bar",
         "x": [
          "Romance"
         ],
         "xaxis": "x",
         "y": [
          895
         ],
         "yaxis": "y"
        },
        {
         "alignmentgroup": "True",
         "hovertemplate": "Genre=%{x}<br>Number of Movies=%{text}<extra></extra>",
         "legendgroup": "Adventure",
         "marker": {
          "color": "rgb(253,180,98)",
          "pattern": {
           "shape": ""
          }
         },
         "name": "Adventure",
         "offsetgroup": "Adventure",
         "orientation": "v",
         "showlegend": true,
         "text": [
          792
         ],
         "textposition": "outside",
         "texttemplate": "%{text}",
         "type": "bar",
         "x": [
          "Adventure"
         ],
         "xaxis": "x",
         "y": [
          792
         ],
         "yaxis": "y"
        },
        {
         "alignmentgroup": "True",
         "hovertemplate": "Genre=%{x}<br>Number of Movies=%{text}<extra></extra>",
         "legendgroup": "Crime",
         "marker": {
          "color": "rgb(179,222,105)",
          "pattern": {
           "shape": ""
          }
         },
         "name": "Crime",
         "offsetgroup": "Crime",
         "orientation": "v",
         "showlegend": true,
         "text": [
          697
         ],
         "textposition": "outside",
         "texttemplate": "%{text}",
         "type": "bar",
         "x": [
          "Crime"
         ],
         "xaxis": "x",
         "y": [
          697
         ],
         "yaxis": "y"
        },
        {
         "alignmentgroup": "True",
         "hovertemplate": "Genre=%{x}<br>Number of Movies=%{text}<extra></extra>",
         "legendgroup": "ScienceFiction",
         "marker": {
          "color": "rgb(252,205,229)",
          "pattern": {
           "shape": ""
          }
         },
         "name": "ScienceFiction",
         "offsetgroup": "ScienceFiction",
         "orientation": "v",
         "showlegend": true,
         "text": [
          538
         ],
         "textposition": "outside",
         "texttemplate": "%{text}",
         "type": "bar",
         "x": [
          "ScienceFiction"
         ],
         "xaxis": "x",
         "y": [
          538
         ],
         "yaxis": "y"
        },
        {
         "alignmentgroup": "True",
         "hovertemplate": "Genre=%{x}<br>Number of Movies=%{text}<extra></extra>",
         "legendgroup": "Horror",
         "marker": {
          "color": "rgb(217,217,217)",
          "pattern": {
           "shape": ""
          }
         },
         "name": "Horror",
         "offsetgroup": "Horror",
         "orientation": "v",
         "showlegend": true,
         "text": [
          520
         ],
         "textposition": "outside",
         "texttemplate": "%{text}",
         "type": "bar",
         "x": [
          "Horror"
         ],
         "xaxis": "x",
         "y": [
          520
         ],
         "yaxis": "y"
        },
        {
         "alignmentgroup": "True",
         "hovertemplate": "Genre=%{x}<br>Number of Movies=%{text}<extra></extra>",
         "legendgroup": "Family",
         "marker": {
          "color": "rgb(188,128,189)",
          "pattern": {
           "shape": ""
          }
         },
         "name": "Family",
         "offsetgroup": "Family",
         "orientation": "v",
         "showlegend": true,
         "text": [
          514
         ],
         "textposition": "outside",
         "texttemplate": "%{text}",
         "type": "bar",
         "x": [
          "Family"
         ],
         "xaxis": "x",
         "y": [
          514
         ],
         "yaxis": "y"
        },
        {
         "alignmentgroup": "True",
         "hovertemplate": "Genre=%{x}<br>Number of Movies=%{text}<extra></extra>",
         "legendgroup": "Fantasy",
         "marker": {
          "color": "rgb(204,235,197)",
          "pattern": {
           "shape": ""
          }
         },
         "name": "Fantasy",
         "offsetgroup": "Fantasy",
         "orientation": "v",
         "showlegend": true,
         "text": [
          425
         ],
         "textposition": "outside",
         "texttemplate": "%{text}",
         "type": "bar",
         "x": [
          "Fantasy"
         ],
         "xaxis": "x",
         "y": [
          425
         ],
         "yaxis": "y"
        },
        {
         "alignmentgroup": "True",
         "hovertemplate": "Genre=%{x}<br>Number of Movies=%{text}<extra></extra>",
         "legendgroup": "Mystery",
         "marker": {
          "color": "rgb(255,237,111)",
          "pattern": {
           "shape": ""
          }
         },
         "name": "Mystery",
         "offsetgroup": "Mystery",
         "orientation": "v",
         "showlegend": true,
         "text": [
          348
         ],
         "textposition": "outside",
         "texttemplate": "%{text}",
         "type": "bar",
         "x": [
          "Mystery"
         ],
         "xaxis": "x",
         "y": [
          348
         ],
         "yaxis": "y"
        },
        {
         "alignmentgroup": "True",
         "hovertemplate": "Genre=%{x}<br>Number of Movies=%{text}<extra></extra>",
         "legendgroup": "Animation",
         "marker": {
          "color": "rgb(141,211,199)",
          "pattern": {
           "shape": ""
          }
         },
         "name": "Animation",
         "offsetgroup": "Animation",
         "orientation": "v",
         "showlegend": true,
         "text": [
          234
         ],
         "textposition": "outside",
         "texttemplate": "%{text}",
         "type": "bar",
         "x": [
          "Animation"
         ],
         "xaxis": "x",
         "y": [
          234
         ],
         "yaxis": "y"
        },
        {
         "alignmentgroup": "True",
         "hovertemplate": "Genre=%{x}<br>Number of Movies=%{text}<extra></extra>",
         "legendgroup": "History",
         "marker": {
          "color": "rgb(255,255,179)",
          "pattern": {
           "shape": ""
          }
         },
         "name": "History",
         "offsetgroup": "History",
         "orientation": "v",
         "showlegend": true,
         "text": [
          197
         ],
         "textposition": "outside",
         "texttemplate": "%{text}",
         "type": "bar",
         "x": [
          "History"
         ],
         "xaxis": "x",
         "y": [
          197
         ],
         "yaxis": "y"
        },
        {
         "alignmentgroup": "True",
         "hovertemplate": "Genre=%{x}<br>Number of Movies=%{text}<extra></extra>",
         "legendgroup": "Music",
         "marker": {
          "color": "rgb(190,186,218)",
          "pattern": {
           "shape": ""
          }
         },
         "name": "Music",
         "offsetgroup": "Music",
         "orientation": "v",
         "showlegend": true,
         "text": [
          185
         ],
         "textposition": "outside",
         "texttemplate": "%{text}",
         "type": "bar",
         "x": [
          "Music"
         ],
         "xaxis": "x",
         "y": [
          185
         ],
         "yaxis": "y"
        },
        {
         "alignmentgroup": "True",
         "hovertemplate": "Genre=%{x}<br>Number of Movies=%{text}<extra></extra>",
         "legendgroup": "War",
         "marker": {
          "color": "rgb(251,128,114)",
          "pattern": {
           "shape": ""
          }
         },
         "name": "War",
         "offsetgroup": "War",
         "orientation": "v",
         "showlegend": true,
         "text": [
          144
         ],
         "textposition": "outside",
         "texttemplate": "%{text}",
         "type": "bar",
         "x": [
          "War"
         ],
         "xaxis": "x",
         "y": [
          144
         ],
         "yaxis": "y"
        },
        {
         "alignmentgroup": "True",
         "hovertemplate": "Genre=%{x}<br>Number of Movies=%{text}<extra></extra>",
         "legendgroup": "Documentary",
         "marker": {
          "color": "rgb(128,177,211)",
          "pattern": {
           "shape": ""
          }
         },
         "name": "Documentary",
         "offsetgroup": "Documentary",
         "orientation": "v",
         "showlegend": true,
         "text": [
          108
         ],
         "textposition": "outside",
         "texttemplate": "%{text}",
         "type": "bar",
         "x": [
          "Documentary"
         ],
         "xaxis": "x",
         "y": [
          108
         ],
         "yaxis": "y"
        },
        {
         "alignmentgroup": "True",
         "hovertemplate": "Genre=%{x}<br>Number of Movies=%{text}<extra></extra>",
         "legendgroup": "Western",
         "marker": {
          "color": "rgb(253,180,98)",
          "pattern": {
           "shape": ""
          }
         },
         "name": "Western",
         "offsetgroup": "Western",
         "orientation": "v",
         "showlegend": true,
         "text": [
          82
         ],
         "textposition": "outside",
         "texttemplate": "%{text}",
         "type": "bar",
         "x": [
          "Western"
         ],
         "xaxis": "x",
         "y": [
          82
         ],
         "yaxis": "y"
        },
        {
         "alignmentgroup": "True",
         "hovertemplate": "Genre=%{x}<br>Number of Movies=%{text}<extra></extra>",
         "legendgroup": "Foreign",
         "marker": {
          "color": "rgb(179,222,105)",
          "pattern": {
           "shape": ""
          }
         },
         "name": "Foreign",
         "offsetgroup": "Foreign",
         "orientation": "v",
         "showlegend": true,
         "text": [
          34
         ],
         "textposition": "outside",
         "texttemplate": "%{text}",
         "type": "bar",
         "x": [
          "Foreign"
         ],
         "xaxis": "x",
         "y": [
          34
         ],
         "yaxis": "y"
        },
        {
         "alignmentgroup": "True",
         "hovertemplate": "Genre=%{x}<br>Number of Movies=%{text}<extra></extra>",
         "legendgroup": "TVMovie",
         "marker": {
          "color": "rgb(252,205,229)",
          "pattern": {
           "shape": ""
          }
         },
         "name": "TVMovie",
         "offsetgroup": "TVMovie",
         "orientation": "v",
         "showlegend": true,
         "text": [
          8
         ],
         "textposition": "outside",
         "texttemplate": "%{text}",
         "type": "bar",
         "x": [
          "TVMovie"
         ],
         "xaxis": "x",
         "y": [
          8
         ],
         "yaxis": "y"
        }
       ],
       "layout": {
        "barmode": "relative",
        "font": {
         "size": 14
        },
        "height": 600,
        "legend": {
         "title": {
          "text": "Genre"
         },
         "tracegroupgap": 0
        },
        "paper_bgcolor": "white",
        "plot_bgcolor": "white",
        "template": {
         "data": {
          "scatter": [
           {
            "type": "scatter"
           }
          ]
         }
        },
        "title": {
         "font": {
          "size": 20
         },
         "text": "Number of Movies per Genre"
        },
        "width": 1000,
        "xaxis": {
         "anchor": "y",
         "categoryarray": [
          "Drama",
          "Comedy",
          "Thriller",
          "Action",
          "Romance",
          "Adventure",
          "Crime",
          "ScienceFiction",
          "Horror",
          "Family",
          "Fantasy",
          "Mystery",
          "Animation",
          "History",
          "Music",
          "War",
          "Documentary",
          "Western",
          "Foreign",
          "TVMovie"
         ],
         "categoryorder": "array",
         "domain": [
          0,
          1
         ],
         "tickangle": -45,
         "title": {
          "text": "Genre"
         }
        },
        "yaxis": {
         "anchor": "x",
         "domain": [
          0,
          1
         ],
         "title": {
          "text": "Number of Movies"
         }
        }
       }
      },
      "text/html": [
       "<div>                            <div id=\"d7c69eea-5c4c-4f4e-804a-045da6438a26\" class=\"plotly-graph-div\" style=\"height:600px; width:1000px;\"></div>            <script type=\"text/javascript\">                require([\"plotly\"], function(Plotly) {                    window.PLOTLYENV=window.PLOTLYENV || {};                                    if (document.getElementById(\"d7c69eea-5c4c-4f4e-804a-045da6438a26\")) {                    Plotly.newPlot(                        \"d7c69eea-5c4c-4f4e-804a-045da6438a26\",                        [{\"alignmentgroup\":\"True\",\"hovertemplate\":\"Genre=%{x}\\u003cbr\\u003eNumber of Movies=%{text}\\u003cextra\\u003e\\u003c\\u002fextra\\u003e\",\"legendgroup\":\"Drama\",\"marker\":{\"color\":\"rgb(141,211,199)\",\"pattern\":{\"shape\":\"\"}},\"name\":\"Drama\",\"offsetgroup\":\"Drama\",\"orientation\":\"v\",\"showlegend\":true,\"text\":[2299.0],\"textposition\":\"outside\",\"x\":[\"Drama\"],\"xaxis\":\"x\",\"y\":[2299],\"yaxis\":\"y\",\"type\":\"bar\",\"texttemplate\":\"%{text}\"},{\"alignmentgroup\":\"True\",\"hovertemplate\":\"Genre=%{x}\\u003cbr\\u003eNumber of Movies=%{text}\\u003cextra\\u003e\\u003c\\u002fextra\\u003e\",\"legendgroup\":\"Comedy\",\"marker\":{\"color\":\"rgb(255,255,179)\",\"pattern\":{\"shape\":\"\"}},\"name\":\"Comedy\",\"offsetgroup\":\"Comedy\",\"orientation\":\"v\",\"showlegend\":true,\"text\":[1723.0],\"textposition\":\"outside\",\"x\":[\"Comedy\"],\"xaxis\":\"x\",\"y\":[1723],\"yaxis\":\"y\",\"type\":\"bar\",\"texttemplate\":\"%{text}\"},{\"alignmentgroup\":\"True\",\"hovertemplate\":\"Genre=%{x}\\u003cbr\\u003eNumber of Movies=%{text}\\u003cextra\\u003e\\u003c\\u002fextra\\u003e\",\"legendgroup\":\"Thriller\",\"marker\":{\"color\":\"rgb(190,186,218)\",\"pattern\":{\"shape\":\"\"}},\"name\":\"Thriller\",\"offsetgroup\":\"Thriller\",\"orientation\":\"v\",\"showlegend\":true,\"text\":[1275.0],\"textposition\":\"outside\",\"x\":[\"Thriller\"],\"xaxis\":\"x\",\"y\":[1275],\"yaxis\":\"y\",\"type\":\"bar\",\"texttemplate\":\"%{text}\"},{\"alignmentgroup\":\"True\",\"hovertemplate\":\"Genre=%{x}\\u003cbr\\u003eNumber of Movies=%{text}\\u003cextra\\u003e\\u003c\\u002fextra\\u003e\",\"legendgroup\":\"Action\",\"marker\":{\"color\":\"rgb(251,128,114)\",\"pattern\":{\"shape\":\"\"}},\"name\":\"Action\",\"offsetgroup\":\"Action\",\"orientation\":\"v\",\"showlegend\":true,\"text\":[1156.0],\"textposition\":\"outside\",\"x\":[\"Action\"],\"xaxis\":\"x\",\"y\":[1156],\"yaxis\":\"y\",\"type\":\"bar\",\"texttemplate\":\"%{text}\"},{\"alignmentgroup\":\"True\",\"hovertemplate\":\"Genre=%{x}\\u003cbr\\u003eNumber of Movies=%{text}\\u003cextra\\u003e\\u003c\\u002fextra\\u003e\",\"legendgroup\":\"Romance\",\"marker\":{\"color\":\"rgb(128,177,211)\",\"pattern\":{\"shape\":\"\"}},\"name\":\"Romance\",\"offsetgroup\":\"Romance\",\"orientation\":\"v\",\"showlegend\":true,\"text\":[895.0],\"textposition\":\"outside\",\"x\":[\"Romance\"],\"xaxis\":\"x\",\"y\":[895],\"yaxis\":\"y\",\"type\":\"bar\",\"texttemplate\":\"%{text}\"},{\"alignmentgroup\":\"True\",\"hovertemplate\":\"Genre=%{x}\\u003cbr\\u003eNumber of Movies=%{text}\\u003cextra\\u003e\\u003c\\u002fextra\\u003e\",\"legendgroup\":\"Adventure\",\"marker\":{\"color\":\"rgb(253,180,98)\",\"pattern\":{\"shape\":\"\"}},\"name\":\"Adventure\",\"offsetgroup\":\"Adventure\",\"orientation\":\"v\",\"showlegend\":true,\"text\":[792.0],\"textposition\":\"outside\",\"x\":[\"Adventure\"],\"xaxis\":\"x\",\"y\":[792],\"yaxis\":\"y\",\"type\":\"bar\",\"texttemplate\":\"%{text}\"},{\"alignmentgroup\":\"True\",\"hovertemplate\":\"Genre=%{x}\\u003cbr\\u003eNumber of Movies=%{text}\\u003cextra\\u003e\\u003c\\u002fextra\\u003e\",\"legendgroup\":\"Crime\",\"marker\":{\"color\":\"rgb(179,222,105)\",\"pattern\":{\"shape\":\"\"}},\"name\":\"Crime\",\"offsetgroup\":\"Crime\",\"orientation\":\"v\",\"showlegend\":true,\"text\":[697.0],\"textposition\":\"outside\",\"x\":[\"Crime\"],\"xaxis\":\"x\",\"y\":[697],\"yaxis\":\"y\",\"type\":\"bar\",\"texttemplate\":\"%{text}\"},{\"alignmentgroup\":\"True\",\"hovertemplate\":\"Genre=%{x}\\u003cbr\\u003eNumber of Movies=%{text}\\u003cextra\\u003e\\u003c\\u002fextra\\u003e\",\"legendgroup\":\"ScienceFiction\",\"marker\":{\"color\":\"rgb(252,205,229)\",\"pattern\":{\"shape\":\"\"}},\"name\":\"ScienceFiction\",\"offsetgroup\":\"ScienceFiction\",\"orientation\":\"v\",\"showlegend\":true,\"text\":[538.0],\"textposition\":\"outside\",\"x\":[\"ScienceFiction\"],\"xaxis\":\"x\",\"y\":[538],\"yaxis\":\"y\",\"type\":\"bar\",\"texttemplate\":\"%{text}\"},{\"alignmentgroup\":\"True\",\"hovertemplate\":\"Genre=%{x}\\u003cbr\\u003eNumber of Movies=%{text}\\u003cextra\\u003e\\u003c\\u002fextra\\u003e\",\"legendgroup\":\"Horror\",\"marker\":{\"color\":\"rgb(217,217,217)\",\"pattern\":{\"shape\":\"\"}},\"name\":\"Horror\",\"offsetgroup\":\"Horror\",\"orientation\":\"v\",\"showlegend\":true,\"text\":[520.0],\"textposition\":\"outside\",\"x\":[\"Horror\"],\"xaxis\":\"x\",\"y\":[520],\"yaxis\":\"y\",\"type\":\"bar\",\"texttemplate\":\"%{text}\"},{\"alignmentgroup\":\"True\",\"hovertemplate\":\"Genre=%{x}\\u003cbr\\u003eNumber of Movies=%{text}\\u003cextra\\u003e\\u003c\\u002fextra\\u003e\",\"legendgroup\":\"Family\",\"marker\":{\"color\":\"rgb(188,128,189)\",\"pattern\":{\"shape\":\"\"}},\"name\":\"Family\",\"offsetgroup\":\"Family\",\"orientation\":\"v\",\"showlegend\":true,\"text\":[514.0],\"textposition\":\"outside\",\"x\":[\"Family\"],\"xaxis\":\"x\",\"y\":[514],\"yaxis\":\"y\",\"type\":\"bar\",\"texttemplate\":\"%{text}\"},{\"alignmentgroup\":\"True\",\"hovertemplate\":\"Genre=%{x}\\u003cbr\\u003eNumber of Movies=%{text}\\u003cextra\\u003e\\u003c\\u002fextra\\u003e\",\"legendgroup\":\"Fantasy\",\"marker\":{\"color\":\"rgb(204,235,197)\",\"pattern\":{\"shape\":\"\"}},\"name\":\"Fantasy\",\"offsetgroup\":\"Fantasy\",\"orientation\":\"v\",\"showlegend\":true,\"text\":[425.0],\"textposition\":\"outside\",\"x\":[\"Fantasy\"],\"xaxis\":\"x\",\"y\":[425],\"yaxis\":\"y\",\"type\":\"bar\",\"texttemplate\":\"%{text}\"},{\"alignmentgroup\":\"True\",\"hovertemplate\":\"Genre=%{x}\\u003cbr\\u003eNumber of Movies=%{text}\\u003cextra\\u003e\\u003c\\u002fextra\\u003e\",\"legendgroup\":\"Mystery\",\"marker\":{\"color\":\"rgb(255,237,111)\",\"pattern\":{\"shape\":\"\"}},\"name\":\"Mystery\",\"offsetgroup\":\"Mystery\",\"orientation\":\"v\",\"showlegend\":true,\"text\":[348.0],\"textposition\":\"outside\",\"x\":[\"Mystery\"],\"xaxis\":\"x\",\"y\":[348],\"yaxis\":\"y\",\"type\":\"bar\",\"texttemplate\":\"%{text}\"},{\"alignmentgroup\":\"True\",\"hovertemplate\":\"Genre=%{x}\\u003cbr\\u003eNumber of Movies=%{text}\\u003cextra\\u003e\\u003c\\u002fextra\\u003e\",\"legendgroup\":\"Animation\",\"marker\":{\"color\":\"rgb(141,211,199)\",\"pattern\":{\"shape\":\"\"}},\"name\":\"Animation\",\"offsetgroup\":\"Animation\",\"orientation\":\"v\",\"showlegend\":true,\"text\":[234.0],\"textposition\":\"outside\",\"x\":[\"Animation\"],\"xaxis\":\"x\",\"y\":[234],\"yaxis\":\"y\",\"type\":\"bar\",\"texttemplate\":\"%{text}\"},{\"alignmentgroup\":\"True\",\"hovertemplate\":\"Genre=%{x}\\u003cbr\\u003eNumber of Movies=%{text}\\u003cextra\\u003e\\u003c\\u002fextra\\u003e\",\"legendgroup\":\"History\",\"marker\":{\"color\":\"rgb(255,255,179)\",\"pattern\":{\"shape\":\"\"}},\"name\":\"History\",\"offsetgroup\":\"History\",\"orientation\":\"v\",\"showlegend\":true,\"text\":[197.0],\"textposition\":\"outside\",\"x\":[\"History\"],\"xaxis\":\"x\",\"y\":[197],\"yaxis\":\"y\",\"type\":\"bar\",\"texttemplate\":\"%{text}\"},{\"alignmentgroup\":\"True\",\"hovertemplate\":\"Genre=%{x}\\u003cbr\\u003eNumber of Movies=%{text}\\u003cextra\\u003e\\u003c\\u002fextra\\u003e\",\"legendgroup\":\"Music\",\"marker\":{\"color\":\"rgb(190,186,218)\",\"pattern\":{\"shape\":\"\"}},\"name\":\"Music\",\"offsetgroup\":\"Music\",\"orientation\":\"v\",\"showlegend\":true,\"text\":[185.0],\"textposition\":\"outside\",\"x\":[\"Music\"],\"xaxis\":\"x\",\"y\":[185],\"yaxis\":\"y\",\"type\":\"bar\",\"texttemplate\":\"%{text}\"},{\"alignmentgroup\":\"True\",\"hovertemplate\":\"Genre=%{x}\\u003cbr\\u003eNumber of Movies=%{text}\\u003cextra\\u003e\\u003c\\u002fextra\\u003e\",\"legendgroup\":\"War\",\"marker\":{\"color\":\"rgb(251,128,114)\",\"pattern\":{\"shape\":\"\"}},\"name\":\"War\",\"offsetgroup\":\"War\",\"orientation\":\"v\",\"showlegend\":true,\"text\":[144.0],\"textposition\":\"outside\",\"x\":[\"War\"],\"xaxis\":\"x\",\"y\":[144],\"yaxis\":\"y\",\"type\":\"bar\",\"texttemplate\":\"%{text}\"},{\"alignmentgroup\":\"True\",\"hovertemplate\":\"Genre=%{x}\\u003cbr\\u003eNumber of Movies=%{text}\\u003cextra\\u003e\\u003c\\u002fextra\\u003e\",\"legendgroup\":\"Documentary\",\"marker\":{\"color\":\"rgb(128,177,211)\",\"pattern\":{\"shape\":\"\"}},\"name\":\"Documentary\",\"offsetgroup\":\"Documentary\",\"orientation\":\"v\",\"showlegend\":true,\"text\":[108.0],\"textposition\":\"outside\",\"x\":[\"Documentary\"],\"xaxis\":\"x\",\"y\":[108],\"yaxis\":\"y\",\"type\":\"bar\",\"texttemplate\":\"%{text}\"},{\"alignmentgroup\":\"True\",\"hovertemplate\":\"Genre=%{x}\\u003cbr\\u003eNumber of Movies=%{text}\\u003cextra\\u003e\\u003c\\u002fextra\\u003e\",\"legendgroup\":\"Western\",\"marker\":{\"color\":\"rgb(253,180,98)\",\"pattern\":{\"shape\":\"\"}},\"name\":\"Western\",\"offsetgroup\":\"Western\",\"orientation\":\"v\",\"showlegend\":true,\"text\":[82.0],\"textposition\":\"outside\",\"x\":[\"Western\"],\"xaxis\":\"x\",\"y\":[82],\"yaxis\":\"y\",\"type\":\"bar\",\"texttemplate\":\"%{text}\"},{\"alignmentgroup\":\"True\",\"hovertemplate\":\"Genre=%{x}\\u003cbr\\u003eNumber of Movies=%{text}\\u003cextra\\u003e\\u003c\\u002fextra\\u003e\",\"legendgroup\":\"Foreign\",\"marker\":{\"color\":\"rgb(179,222,105)\",\"pattern\":{\"shape\":\"\"}},\"name\":\"Foreign\",\"offsetgroup\":\"Foreign\",\"orientation\":\"v\",\"showlegend\":true,\"text\":[34.0],\"textposition\":\"outside\",\"x\":[\"Foreign\"],\"xaxis\":\"x\",\"y\":[34],\"yaxis\":\"y\",\"type\":\"bar\",\"texttemplate\":\"%{text}\"},{\"alignmentgroup\":\"True\",\"hovertemplate\":\"Genre=%{x}\\u003cbr\\u003eNumber of Movies=%{text}\\u003cextra\\u003e\\u003c\\u002fextra\\u003e\",\"legendgroup\":\"TVMovie\",\"marker\":{\"color\":\"rgb(252,205,229)\",\"pattern\":{\"shape\":\"\"}},\"name\":\"TVMovie\",\"offsetgroup\":\"TVMovie\",\"orientation\":\"v\",\"showlegend\":true,\"text\":[8.0],\"textposition\":\"outside\",\"x\":[\"TVMovie\"],\"xaxis\":\"x\",\"y\":[8],\"yaxis\":\"y\",\"type\":\"bar\",\"texttemplate\":\"%{text}\"}],                        {\"template\":{\"data\":{\"scatter\":[{\"type\":\"scatter\"}]}},\"xaxis\":{\"anchor\":\"y\",\"domain\":[0.0,1.0],\"title\":{\"text\":\"Genre\"},\"categoryorder\":\"array\",\"categoryarray\":[\"Drama\",\"Comedy\",\"Thriller\",\"Action\",\"Romance\",\"Adventure\",\"Crime\",\"ScienceFiction\",\"Horror\",\"Family\",\"Fantasy\",\"Mystery\",\"Animation\",\"History\",\"Music\",\"War\",\"Documentary\",\"Western\",\"Foreign\",\"TVMovie\"],\"tickangle\":-45},\"yaxis\":{\"anchor\":\"x\",\"domain\":[0.0,1.0],\"title\":{\"text\":\"Number of Movies\"}},\"legend\":{\"title\":{\"text\":\"Genre\"},\"tracegroupgap\":0},\"title\":{\"text\":\"Number of Movies per Genre\",\"font\":{\"size\":20}},\"barmode\":\"relative\",\"font\":{\"size\":14},\"plot_bgcolor\":\"white\",\"paper_bgcolor\":\"white\",\"height\":600,\"width\":1000},                        {\"responsive\": true}                    ).then(function(){\n",
       "                            \n",
       "var gd = document.getElementById('d7c69eea-5c4c-4f4e-804a-045da6438a26');\n",
       "var x = new MutationObserver(function (mutations, observer) {{\n",
       "        var display = window.getComputedStyle(gd).display;\n",
       "        if (!display || display === 'none') {{\n",
       "            console.log([gd, 'removed!']);\n",
       "            Plotly.purge(gd);\n",
       "            observer.disconnect();\n",
       "        }}\n",
       "}});\n",
       "\n",
       "// Listen for the removal of the full notebook cells\n",
       "var notebookContainer = gd.closest('#notebook-container');\n",
       "if (notebookContainer) {{\n",
       "    x.observe(notebookContainer, {childList: true});\n",
       "}}\n",
       "\n",
       "// Listen for the clearing of the current output cell\n",
       "var outputEl = gd.closest('.output');\n",
       "if (outputEl) {{\n",
       "    x.observe(outputEl, {childList: true});\n",
       "}}\n",
       "\n",
       "                        })                };                });            </script>        </div>"
      ]
     },
     "metadata": {},
     "output_type": "display_data"
    }
   ],
   "source": [
    "genres_exploded = movies.explode('genres')\n",
    "\n",
    "# Count occurrences of each genre\n",
    "genres_count = genres_exploded['genres'].value_counts().reset_index()\n",
    "genres_count.columns = ['Genre', 'Number of Movies']\n",
    "\n",
    "# Plot the genre counts using Plotly\n",
    "fig = px.bar(genres_count, \n",
    "             x='Genre', \n",
    "             y='Number of Movies', \n",
    "             title='Number of Movies per Genre', \n",
    "             color='Genre',  \n",
    "             text='Number of Movies',  \n",
    "             color_discrete_sequence=px.colors.qualitative.Set3)  \n",
    "\n",
    "fig.update_layout(\n",
    "    xaxis_title='Genre',\n",
    "    yaxis_title='Number of Movies',\n",
    "    template='none',  \n",
    "    plot_bgcolor='white',\n",
    "    paper_bgcolor='white', \n",
    "    xaxis_tickangle=-45,   \n",
    "    height=600,\n",
    "    width=1000,\n",
    "    font=dict(size=14),    \n",
    "    title_font=dict(size=20) \n",
    ")\n",
    "\n",
    "fig.update_traces(texttemplate='%{text}', textposition='outside')\n",
    "\n",
    "# Show the plot\n",
    "fig.show()"
   ]
  },
  {
   "cell_type": "markdown",
   "id": "34784341",
   "metadata": {},
   "source": [
    "### Data Preprocessing"
   ]
  },
  {
   "cell_type": "markdown",
   "id": "188b75e0",
   "metadata": {},
   "source": [
    " **1. Convert Stringified Columns to Lists**"
   ]
  },
  {
   "cell_type": "code",
   "execution_count": 14,
   "id": "6a9d5ab4",
   "metadata": {},
   "outputs": [],
   "source": [
    "def convert(text):\n",
    "    if isinstance(text, str): \n",
    "        text = ast.literal_eval(text)\n",
    "    return [i['name'] if isinstance(i, dict) else i for i in text]\n",
    "\n",
    "# Apply conversion to 'genres' and 'keywords' columns\n",
    "movies['genres'] = movies['genres'].apply(convert)\n",
    "movies['keywords'] = movies['keywords'].apply(convert)"
   ]
  },
  {
   "cell_type": "markdown",
   "id": "68a5224c",
   "metadata": {},
   "source": [
    "**2. Processing Cast (Top 3 Actors)**"
   ]
  },
  {
   "cell_type": "code",
   "execution_count": 15,
   "id": "448ba098",
   "metadata": {},
   "outputs": [],
   "source": [
    "def convert_cast(text):\n",
    "    L = []\n",
    "    counter = 0\n",
    "    if isinstance(text, str):\n",
    "        try:\n",
    "            text = ast.literal_eval(text)\n",
    "        except (ValueError, SyntaxError):\n",
    "            return [] \n",
    "\n",
    "    if isinstance(text, list):\n",
    "        for i in text:\n",
    "            if isinstance(i, dict) and 'name' in i:\n",
    "                if counter < 3:  \n",
    "                    L.append(i['name'])\n",
    "                    counter += 1\n",
    "                else:\n",
    "                    break\n",
    "    return L\n",
    "\n",
    "# Apply the function to the 'cast' column\n",
    "movies['cast'] = movies['cast'].apply(convert_cast)"
   ]
  },
  {
   "cell_type": "markdown",
   "id": "ad92e6c5",
   "metadata": {},
   "source": [
    "**3. Processing Crew (Director Only)**"
   ]
  },
  {
   "cell_type": "code",
   "execution_count": 16,
   "id": "0b840c14",
   "metadata": {},
   "outputs": [],
   "source": [
    "def fetch_director(text):\n",
    "    if isinstance(text, str):\n",
    "        try:\n",
    "            text = ast.literal_eval(text)\n",
    "        except (ValueError, SyntaxError):\n",
    "            return []\n",
    "    \n",
    "    if isinstance(text, list):\n",
    "        for i in text:\n",
    "            if isinstance(i, dict) and i.get('job') == 'Director':\n",
    "                return [i['name']]  \n",
    "    return [] \n",
    "\n",
    "# Apply the function to the 'crew' column\n",
    "movies['crew'] = movies['crew'].apply(fetch_director)"
   ]
  },
  {
   "cell_type": "markdown",
   "id": "12fc6942",
   "metadata": {},
   "source": [
    "**4. Removing Spaces from Tags**"
   ]
  },
  {
   "cell_type": "code",
   "execution_count": 17,
   "id": "2e7b2879",
   "metadata": {},
   "outputs": [],
   "source": [
    "def collapse(L):\n",
    "    return [i.replace(\" \", \"\") for i in L]\n",
    "\n",
    "movies['cast'] = movies['cast'].apply(collapse)\n",
    "movies['crew'] = movies['crew'].apply(collapse)\n",
    "movies['genres'] = movies['genres'].apply(collapse)\n",
    "movies['keywords'] = movies['keywords'].apply(collapse)"
   ]
  },
  {
   "cell_type": "markdown",
   "id": "c8eee76c",
   "metadata": {},
   "source": [
    "**5. Tokenizing Overview Column**"
   ]
  },
  {
   "cell_type": "code",
   "execution_count": 18,
   "id": "d5a802bb",
   "metadata": {},
   "outputs": [],
   "source": [
    "def split_if_string(x):\n",
    "    if isinstance(x, str):\n",
    "        return x.split()\n",
    "    return x \n",
    "\n",
    "# Apply the function to the 'overview' column\n",
    "movies['overview'] = movies['overview'].apply(split_if_string)"
   ]
  },
  {
   "cell_type": "markdown",
   "id": "c17abd96",
   "metadata": {},
   "source": [
    "### Creating Tags Column"
   ]
  },
  {
   "cell_type": "code",
   "execution_count": 19,
   "id": "4526627a",
   "metadata": {},
   "outputs": [],
   "source": [
    "movies['tags'] = movies['overview'] + movies['genres'] + movies['keywords'] + movies['cast'] + movies['crew']"
   ]
  },
  {
   "cell_type": "code",
   "execution_count": 20,
   "id": "266d41d9",
   "metadata": {},
   "outputs": [],
   "source": [
    "new_movies_df = movies[['movie_id','title','tags']]"
   ]
  },
  {
   "cell_type": "markdown",
   "id": "872a618c",
   "metadata": {},
   "source": [
    "### Converting Tags to Strings and Lowercase"
   ]
  },
  {
   "cell_type": "code",
   "execution_count": 21,
   "id": "09deba19",
   "metadata": {},
   "outputs": [],
   "source": [
    "new_movies_df.loc[:, 'tags'] = new_movies_df['tags'].apply(lambda x: \" \".join(x))"
   ]
  },
  {
   "cell_type": "code",
   "execution_count": 22,
   "id": "b2ef4c75",
   "metadata": {},
   "outputs": [],
   "source": [
    "new_movies_df.loc[:, 'tags'] = new_movies_df['tags'].apply(lambda x: x.lower())"
   ]
  },
  {
   "cell_type": "markdown",
   "id": "43fd2719",
   "metadata": {},
   "source": [
    "### Preprocessing Text Data"
   ]
  },
  {
   "cell_type": "code",
   "execution_count": 23,
   "id": "cdc554ab",
   "metadata": {},
   "outputs": [
    {
     "name": "stderr",
     "output_type": "stream",
     "text": [
      "[nltk_data] Downloading package stopwords to\n",
      "[nltk_data]     C:\\Users\\hp\\AppData\\Roaming\\nltk_data...\n",
      "[nltk_data]   Package stopwords is already up-to-date!\n"
     ]
    }
   ],
   "source": [
    "# Download stopwords \n",
    "nltk.download('stopwords')\n",
    "\n",
    "ps = PorterStemmer()\n",
    "\n",
    "def preprocess(text):\n",
    "    # Convert to lowercase\n",
    "    text = text.lower()\n",
    "    \n",
    "    # Remove special characters, numbers, and punctuation\n",
    "    text = re.sub('[^a-zA-Z]', ' ', text)\n",
    "    \n",
    "    # Split the text into tokens\n",
    "    text = text.split()\n",
    "    \n",
    "    # Remove stopwords and apply stemming\n",
    "    text = [ps.stem(word) for word in text if word not in stopwords.words('english')]\n",
    "    \n",
    "    # Join the words back into a single string\n",
    "    return ' '.join(text)\n",
    "\n",
    "# Apply the preprocessing function to the 'tags' column\n",
    "new_movies_df.loc[:, 'tags'] = new_movies_df['tags'].apply(preprocess)"
   ]
  },
  {
   "cell_type": "markdown",
   "id": "c61e6e14",
   "metadata": {},
   "source": [
    "### TF-IDF Vectorization"
   ]
  },
  {
   "cell_type": "code",
   "execution_count": 24,
   "id": "4eeeb696",
   "metadata": {},
   "outputs": [],
   "source": [
    "# Initialize TfidfVectorizer with maximum features and stop words\n",
    "tfidf = TfidfVectorizer(max_features=5000, stop_words='english')\n",
    "\n",
    "# Apply TF-IDF vectorization on the 'tags' column\n",
    "vector = tfidf.fit_transform(new_movies_df['tags']).toarray()"
   ]
  },
  {
   "cell_type": "markdown",
   "id": "0a6a5f44",
   "metadata": {},
   "source": [
    "### Calculating Cosine Similarity"
   ]
  },
  {
   "cell_type": "code",
   "execution_count": 25,
   "id": "a36f0ee4",
   "metadata": {},
   "outputs": [],
   "source": [
    "similarity = cosine_similarity(vector)"
   ]
  },
  {
   "cell_type": "markdown",
   "id": "b9c03a7a",
   "metadata": {},
   "source": [
    "### Recommendation Function"
   ]
  },
  {
   "cell_type": "code",
   "execution_count": 34,
   "id": "64cca273",
   "metadata": {},
   "outputs": [
    {
     "data": {
      "text/html": [
       "\n",
       "        <div style=\"font-family: 'Segoe UI', Tahoma, Geneva, Verdana, sans-serif; background-color: #f4f4f9; padding: 20px; border-radius: 15px; box-shadow: 0 0 15px rgba(0, 0, 0, 0.1); max-width: 600px; margin: auto;\">\n",
       "            <h2 style=\"color: #2c3e50; text-align: center;\">🎬 Movies Similar to 'Avatar':</h2>\n",
       "            <ul style=\"list-style-type: none; padding: 0;\">\n",
       "        \n",
       "            <li style=\"padding: 15px; border-bottom: 2px solid #ecf0f1; color: #34495e; font-size: 18px; transition: background-color 0.3s;\">\n",
       "                <strong style=\"color: #3498db;\">Aliens</strong> \n",
       "                <span style=\"float: right; color: #e74c3c;\">Similarity: 0.24</span>\n",
       "            </li>\n",
       "            <li style=\"padding: 15px; border-bottom: 2px solid #ecf0f1; color: #34495e; font-size: 18px; transition: background-color 0.3s;\">\n",
       "                <strong style=\"color: #3498db;\">Falcon Rising</strong> \n",
       "                <span style=\"float: right; color: #e74c3c;\">Similarity: 0.21</span>\n",
       "            </li>\n",
       "            <li style=\"padding: 15px; border-bottom: 2px solid #ecf0f1; color: #34495e; font-size: 18px; transition: background-color 0.3s;\">\n",
       "                <strong style=\"color: #3498db;\">Battle: Los Angeles</strong> \n",
       "                <span style=\"float: right; color: #e74c3c;\">Similarity: 0.18</span>\n",
       "            </li>\n",
       "            <li style=\"padding: 15px; border-bottom: 2px solid #ecf0f1; color: #34495e; font-size: 18px; transition: background-color 0.3s;\">\n",
       "                <strong style=\"color: #3498db;\">Apollo 18</strong> \n",
       "                <span style=\"float: right; color: #e74c3c;\">Similarity: 0.17</span>\n",
       "            </li>\n",
       "            <li style=\"padding: 15px; border-bottom: 2px solid #ecf0f1; color: #34495e; font-size: 18px; transition: background-color 0.3s;\">\n",
       "                <strong style=\"color: #3498db;\">Meet Dave</strong> \n",
       "                <span style=\"float: right; color: #e74c3c;\">Similarity: 0.16</span>\n",
       "            </li></ul></div>"
      ],
      "text/plain": [
       "<IPython.core.display.HTML object>"
      ]
     },
     "metadata": {},
     "output_type": "display_data"
    }
   ],
   "source": [
    "from IPython.display import display, HTML\n",
    "\n",
    "def recommend(movie):\n",
    "    try:\n",
    "        # Find the index of the movie\n",
    "        index = new_movies_df[new_movies_df['title'] == movie].index[0]  \n",
    "        distances = sorted(list(enumerate(similarity[index])), reverse=True, key=lambda x: x[1])  \n",
    "\n",
    "        # Build the HTML content\n",
    "        html = f\"\"\"\n",
    "        <div style=\"font-family: 'Segoe UI', Tahoma, Geneva, Verdana, sans-serif; background-color: #f4f4f9; padding: 20px; border-radius: 15px; box-shadow: 0 0 15px rgba(0, 0, 0, 0.1); max-width: 600px; margin: auto;\">\n",
    "            <h2 style=\"color: #2c3e50; text-align: center;\">🎬 Movies Similar to '{movie}':</h2>\n",
    "            <ul style=\"list-style-type: none; padding: 0;\">\n",
    "        \"\"\"\n",
    "        for i in distances[1:6]:  \n",
    "            title = new_movies_df.iloc[i[0]].title\n",
    "            html += f'''\n",
    "            <li style=\"padding: 15px; border-bottom: 2px solid #ecf0f1; color: #34495e; font-size: 18px; transition: background-color 0.3s;\">\n",
    "                <strong style=\"color: #3498db;\">{title}</strong> \n",
    "                <span style=\"float: right; color: #e74c3c;\">Similarity: {i[1]:.2f}</span>\n",
    "            </li>'''\n",
    "        html += \"</ul></div>\"\n",
    "\n",
    "        # Display the HTML content\n",
    "        display(HTML(html))\n",
    "    except IndexError:\n",
    "        display(HTML(f\"<div style='font-family: 'Segoe UI', Tahoma, Geneva, Verdana, sans-serif; color: #e74c3c; text-align: center;'><h2>'{movie}' not found in the dataset.</h2></div>\"))\n",
    "\n",
    "# Testing the Recommender\n",
    "recommend('Avatar')"
   ]
  },
  {
   "cell_type": "code",
   "execution_count": 27,
   "id": "aac658ef",
   "metadata": {},
   "outputs": [
    {
     "data": {
      "text/plain": [
       "['cosine_similarity_matrix.pkl']"
      ]
     },
     "execution_count": 27,
     "metadata": {},
     "output_type": "execute_result"
    }
   ],
   "source": [
    "import joblib\n",
    "\n",
    "# Save TF-IDF Vectorizer\n",
    "joblib.dump(tfidf, 'tfidf_vectorizer.pkl')\n",
    "\n",
    "# Save Cosine Similarity Matrix\n",
    "joblib.dump(similarity, 'cosine_similarity_matrix.pkl')"
   ]
  },
  {
   "cell_type": "code",
   "execution_count": 28,
   "id": "34912861",
   "metadata": {},
   "outputs": [],
   "source": [
    "new_movies_df.to_csv('new_movies_df.csv', index=False)"
   ]
  },
  {
   "cell_type": "code",
   "execution_count": null,
   "id": "866ba7a7",
   "metadata": {},
   "outputs": [],
   "source": []
  }
 ],
 "metadata": {
  "kernelspec": {
   "display_name": "Python 3 (ipykernel)",
   "language": "python",
   "name": "python3"
  },
  "language_info": {
   "codemirror_mode": {
    "name": "ipython",
    "version": 3
   },
   "file_extension": ".py",
   "mimetype": "text/x-python",
   "name": "python",
   "nbconvert_exporter": "python",
   "pygments_lexer": "ipython3",
   "version": "3.10.11"
  }
 },
 "nbformat": 4,
 "nbformat_minor": 5
}
